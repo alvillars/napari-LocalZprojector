{
 "cells": [
  {
   "cell_type": "code",
   "execution_count": 7,
   "metadata": {},
   "outputs": [
    {
     "ename": "TypeError",
     "evalue": "__init__() got multiple values for argument 'call_button'",
     "output_type": "error",
     "traceback": [
      "\u001b[1;31m---------------------------------------------------------------------------\u001b[0m",
      "\u001b[1;31mTypeError\u001b[0m                                 Traceback (most recent call last)",
      "Cell \u001b[1;32mIn[7], line 78\u001b[0m\n\u001b[0;32m     75\u001b[0m viewer \u001b[39m=\u001b[39m napari\u001b[39m.\u001b[39mViewer()\n\u001b[0;32m     76\u001b[0m viewer\u001b[39m.\u001b[39madd_image(napari_image, name\u001b[39m=\u001b[39m\u001b[39m'\u001b[39m\u001b[39mnapari_island\u001b[39m\u001b[39m'\u001b[39m)\n\u001b[1;32m---> 78\u001b[0m flood_widget \u001b[39m=\u001b[39m MyGui()\n\u001b[0;32m     79\u001b[0m viewer\u001b[39m.\u001b[39mwindow\u001b[39m.\u001b[39madd_dock_widget(flood_widget, area\u001b[39m=\u001b[39m\u001b[39m'\u001b[39m\u001b[39mright\u001b[39m\u001b[39m'\u001b[39m)\n",
      "Cell \u001b[1;32mIn[7], line 54\u001b[0m, in \u001b[0;36mMyGui.__init__\u001b[1;34m(self)\u001b[0m\n\u001b[0;32m     53\u001b[0m \u001b[39mdef\u001b[39;00m \u001b[39m__init__\u001b[39m(\u001b[39mself\u001b[39m):\n\u001b[1;32m---> 54\u001b[0m     \u001b[39msuper\u001b[39;49m()\u001b[39m.\u001b[39;49m\u001b[39m__init__\u001b[39;49m(\n\u001b[0;32m     55\u001b[0m       localzprojection,\n\u001b[0;32m     56\u001b[0m       btnFnc,\n\u001b[0;32m     57\u001b[0m       call_button\u001b[39m=\u001b[39;49m\u001b[39mTrue\u001b[39;49;00m,\n\u001b[0;32m     58\u001b[0m       auto_call\u001b[39m=\u001b[39;49m\u001b[39mFalse\u001b[39;49;00m,\n\u001b[0;32m     59\u001b[0m       layout\u001b[39m=\u001b[39;49m\u001b[39m'\u001b[39;49m\u001b[39mvertical\u001b[39;49m\u001b[39m'\u001b[39;49m,\n\u001b[0;32m     60\u001b[0m       param_options\u001b[39m=\u001b[39;49m{\n\u001b[0;32m     61\u001b[0m             \u001b[39m'\u001b[39;49m\u001b[39mhalfsize\u001b[39;49m\u001b[39m'\u001b[39;49m : {\u001b[39m\"\u001b[39;49m\u001b[39mwidget_type\u001b[39;49m\u001b[39m\"\u001b[39;49m: \u001b[39m\"\u001b[39;49m\u001b[39mSpinBox\u001b[39;49m\u001b[39m\"\u001b[39;49m,\u001b[39m\"\u001b[39;49m\u001b[39mvalue\u001b[39;49m\u001b[39m\"\u001b[39;49m:\u001b[39m40\u001b[39;49m, \u001b[39m\"\u001b[39;49m\u001b[39mname\u001b[39;49m\u001b[39m\"\u001b[39;49m:\u001b[39m'\u001b[39;49m\u001b[39mspin\u001b[39;49m\u001b[39m'\u001b[39;49m, \u001b[39m\"\u001b[39;49m\u001b[39mlabel\u001b[39;49m\u001b[39m\"\u001b[39;49m:\u001b[39m'\u001b[39;49m\u001b[39msxy:\u001b[39;49m\u001b[39m'\u001b[39;49m, \u001b[39m\"\u001b[39;49m\u001b[39mmax\u001b[39;49m\u001b[39m\"\u001b[39;49m:\u001b[39m100\u001b[39;49m}, \n\u001b[0;32m     62\u001b[0m             \u001b[39m'\u001b[39;49m\u001b[39mstep_size\u001b[39;49m\u001b[39m'\u001b[39;49m: {\u001b[39m\"\u001b[39;49m\u001b[39mwidget_type\u001b[39;49m\u001b[39m\"\u001b[39;49m: \u001b[39m\"\u001b[39;49m\u001b[39mSpinBox\u001b[39;49m\u001b[39m\"\u001b[39;49m,\u001b[39m\"\u001b[39;49m\u001b[39mvalue\u001b[39;49m\u001b[39m\"\u001b[39;49m:\u001b[39m20\u001b[39;49m, \u001b[39m\"\u001b[39;49m\u001b[39mname\u001b[39;49m\u001b[39m\"\u001b[39;49m:\u001b[39m'\u001b[39;49m\u001b[39mspin1\u001b[39;49m\u001b[39m'\u001b[39;49m, \u001b[39m\"\u001b[39;49m\u001b[39mlabel\u001b[39;49m\u001b[39m\"\u001b[39;49m:\u001b[39m'\u001b[39;49m\u001b[39mdxy:\u001b[39;49m\u001b[39m'\u001b[39;49m, \u001b[39m\"\u001b[39;49m\u001b[39mmax\u001b[39;49m\u001b[39m\"\u001b[39;49m:\u001b[39m100\u001b[39;49m},\n\u001b[0;32m     63\u001b[0m             \u001b[39m'\u001b[39;49m\u001b[39mdz\u001b[39;49m\u001b[39m'\u001b[39;49m : {\u001b[39m\"\u001b[39;49m\u001b[39mwidget_type\u001b[39;49m\u001b[39m\"\u001b[39;49m: \u001b[39m\"\u001b[39;49m\u001b[39mSpinBox\u001b[39;49m\u001b[39m\"\u001b[39;49m,\u001b[39m\"\u001b[39;49m\u001b[39mvalue\u001b[39;49m\u001b[39m\"\u001b[39;49m:\u001b[39m1\u001b[39;49m, \u001b[39m\"\u001b[39;49m\u001b[39mname\u001b[39;49m\u001b[39m\"\u001b[39;49m:\u001b[39m'\u001b[39;49m\u001b[39mspin2\u001b[39;49m\u001b[39m'\u001b[39;49m, \u001b[39m\"\u001b[39;49m\u001b[39mlabel\u001b[39;49m\u001b[39m\"\u001b[39;49m:\u001b[39m'\u001b[39;49m\u001b[39mdz:\u001b[39;49m\u001b[39m'\u001b[39;49m, \u001b[39m\"\u001b[39;49m\u001b[39mmax\u001b[39;49m\u001b[39m\"\u001b[39;49m:\u001b[39m5\u001b[39;49m},\n\u001b[0;32m     64\u001b[0m             \u001b[39m'\u001b[39;49m\u001b[39mminT\u001b[39;49m\u001b[39m'\u001b[39;49m : {\u001b[39m\"\u001b[39;49m\u001b[39mwidget_type\u001b[39;49m\u001b[39m\"\u001b[39;49m: \u001b[39m\"\u001b[39;49m\u001b[39mSpinBox\u001b[39;49m\u001b[39m\"\u001b[39;49m,\u001b[39m\"\u001b[39;49m\u001b[39mvalue\u001b[39;49m\u001b[39m\"\u001b[39;49m:\u001b[39m0\u001b[39;49m, \u001b[39m\"\u001b[39;49m\u001b[39mname\u001b[39;49m\u001b[39m\"\u001b[39;49m:\u001b[39m'\u001b[39;49m\u001b[39mspin3\u001b[39;49m\u001b[39m'\u001b[39;49m, \u001b[39m\"\u001b[39;49m\u001b[39mlabel\u001b[39;49m\u001b[39m\"\u001b[39;49m:\u001b[39m'\u001b[39;49m\u001b[39mminT:\u001b[39;49m\u001b[39m'\u001b[39;49m, \u001b[39m\"\u001b[39;49m\u001b[39mmax\u001b[39;49m\u001b[39m\"\u001b[39;49m:\u001b[39m10\u001b[39;49m},\n\u001b[0;32m     65\u001b[0m             \u001b[39m'\u001b[39;49m\u001b[39mmaxT\u001b[39;49m\u001b[39m'\u001b[39;49m : {\u001b[39m\"\u001b[39;49m\u001b[39mwidget_type\u001b[39;49m\u001b[39m\"\u001b[39;49m: \u001b[39m\"\u001b[39;49m\u001b[39mSpinBox\u001b[39;49m\u001b[39m\"\u001b[39;49m,\u001b[39m\"\u001b[39;49m\u001b[39mvalue\u001b[39;49m\u001b[39m\"\u001b[39;49m:\u001b[39m0\u001b[39;49m, \u001b[39m\"\u001b[39;49m\u001b[39mname\u001b[39;49m\u001b[39m\"\u001b[39;49m:\u001b[39m'\u001b[39;49m\u001b[39mspin4\u001b[39;49m\u001b[39m'\u001b[39;49m, \u001b[39m\"\u001b[39;49m\u001b[39mlabel\u001b[39;49m\u001b[39m\"\u001b[39;49m:\u001b[39m'\u001b[39;49m\u001b[39mmaxT:\u001b[39;49m\u001b[39m'\u001b[39;49m, \u001b[39m\"\u001b[39;49m\u001b[39mmax\u001b[39;49m\u001b[39m\"\u001b[39;49m:\u001b[39m10\u001b[39;49m},\n\u001b[0;32m     66\u001b[0m             \u001b[39m'\u001b[39;49m\u001b[39mminZ\u001b[39;49m\u001b[39m'\u001b[39;49m : {\u001b[39m\"\u001b[39;49m\u001b[39mwidget_type\u001b[39;49m\u001b[39m\"\u001b[39;49m: \u001b[39m\"\u001b[39;49m\u001b[39mSpinBox\u001b[39;49m\u001b[39m\"\u001b[39;49m,\u001b[39m\"\u001b[39;49m\u001b[39mvalue\u001b[39;49m\u001b[39m\"\u001b[39;49m:\u001b[39m0\u001b[39;49m, \u001b[39m\"\u001b[39;49m\u001b[39mname\u001b[39;49m\u001b[39m\"\u001b[39;49m:\u001b[39m'\u001b[39;49m\u001b[39mspin5\u001b[39;49m\u001b[39m'\u001b[39;49m, \u001b[39m\"\u001b[39;49m\u001b[39mlabel\u001b[39;49m\u001b[39m\"\u001b[39;49m:\u001b[39m'\u001b[39;49m\u001b[39mminZ:\u001b[39;49m\u001b[39m'\u001b[39;49m, \u001b[39m\"\u001b[39;49m\u001b[39mmax\u001b[39;49m\u001b[39m\"\u001b[39;49m:\u001b[39m60\u001b[39;49m},\n\u001b[0;32m     67\u001b[0m             \u001b[39m'\u001b[39;49m\u001b[39mmaxZ\u001b[39;49m\u001b[39m'\u001b[39;49m : {\u001b[39m\"\u001b[39;49m\u001b[39mwidget_type\u001b[39;49m\u001b[39m\"\u001b[39;49m: \u001b[39m\"\u001b[39;49m\u001b[39mSpinBox\u001b[39;49m\u001b[39m\"\u001b[39;49m,\u001b[39m\"\u001b[39;49m\u001b[39mvalue\u001b[39;49m\u001b[39m\"\u001b[39;49m:\u001b[39m0\u001b[39;49m, \u001b[39m\"\u001b[39;49m\u001b[39mname\u001b[39;49m\u001b[39m\"\u001b[39;49m:\u001b[39m'\u001b[39;49m\u001b[39mspin6\u001b[39;49m\u001b[39m'\u001b[39;49m, \u001b[39m\"\u001b[39;49m\u001b[39mlabel\u001b[39;49m\u001b[39m\"\u001b[39;49m:\u001b[39m'\u001b[39;49m\u001b[39mmaxZ:\u001b[39;49m\u001b[39m'\u001b[39;49m, \u001b[39m\"\u001b[39;49m\u001b[39mmax\u001b[39;49m\u001b[39m\"\u001b[39;49m:\u001b[39m60\u001b[39;49m},\n\u001b[0;32m     68\u001b[0m             \u001b[39m'\u001b[39;49m\u001b[39mdropdown\u001b[39;49m\u001b[39m'\u001b[39;49m : {\u001b[39m\"\u001b[39;49m\u001b[39mchoices\u001b[39;49m\u001b[39m\"\u001b[39;49m:  [\u001b[39m'\u001b[39;49m\u001b[39mmean\u001b[39;49m\u001b[39m'\u001b[39;49m,\u001b[39m'\u001b[39;49m\u001b[39mstd\u001b[39;49m\u001b[39m'\u001b[39;49m,\u001b[39m'\u001b[39;49m\u001b[39mmedian\u001b[39;49m\u001b[39m'\u001b[39;49m,\u001b[39m'\u001b[39;49m\u001b[39mmean_mass\u001b[39;49m\u001b[39m'\u001b[39;49m,\u001b[39m'\u001b[39;49m\u001b[39mmean_std\u001b[39;49m\u001b[39m'\u001b[39;49m]},\n\u001b[0;32m     69\u001b[0m             \u001b[39m'\u001b[39;49m\u001b[39mbtn\u001b[39;49m\u001b[39m'\u001b[39;49m : {\u001b[39m\"\u001b[39;49m\u001b[39mwidget_type\u001b[39;49m\u001b[39m\"\u001b[39;49m: \u001b[39m\"\u001b[39;49m\u001b[39mPushButton\u001b[39;49m\u001b[39m\"\u001b[39;49m, \u001b[39m\"\u001b[39;49m\u001b[39mvalue\u001b[39;49m\u001b[39m\"\u001b[39;49m: \u001b[39mFalse\u001b[39;49;00m, \u001b[39m\"\u001b[39;49m\u001b[39mname\u001b[39;49m\u001b[39m\"\u001b[39;49m: \u001b[39m\"\u001b[39;49m\u001b[39mGetImInfo\u001b[39;49m\u001b[39m\"\u001b[39;49m},\n\u001b[0;32m     70\u001b[0m             \u001b[39m'\u001b[39;49m\u001b[39mrun\u001b[39;49m\u001b[39m'\u001b[39;49m : {\u001b[39m\"\u001b[39;49m\u001b[39mwidget_type\u001b[39;49m\u001b[39m\"\u001b[39;49m: \u001b[39m\"\u001b[39;49m\u001b[39mPushButton\u001b[39;49m\u001b[39m\"\u001b[39;49m, \u001b[39m\"\u001b[39;49m\u001b[39mvalue\u001b[39;49m\u001b[39m\"\u001b[39;49m: \u001b[39mFalse\u001b[39;49;00m, \u001b[39m\"\u001b[39;49m\u001b[39mname\u001b[39;49m\u001b[39m\"\u001b[39;49m: \u001b[39m\"\u001b[39;49m\u001b[39mrun\u001b[39;49m\u001b[39m\"\u001b[39;49m}} \n\u001b[0;32m     71\u001b[0m     )\n",
      "\u001b[1;31mTypeError\u001b[0m: __init__() got multiple values for argument 'call_button'"
     ]
    }
   ],
   "source": [
    "import napari\n",
    "from skimage.io import imread\n",
    "from napari.types import ImageData, LabelsData, LayerDataTuple\n",
    "from magicgui.widgets import FunctionGui\n",
    "from typing import TYPE_CHECKING\n",
    "from functions import get_interp_zmap, get_zfilter, get_zproj_linear, getzmap\n",
    "from magicgui import magic_factory, magicgui\n",
    "from qtpy.QtWidgets import QHBoxLayout, QPushButton, QWidget\n",
    "from napari.types import ImageData\n",
    "import numpy as np\n",
    "from napari.utils.notifications import show_info\n",
    "\n",
    "def localzprojection(layer : ImageData, halfsize=40, step_size=20, dz=1, minT=1, maxT=1, minZ=0, maxZ=0, dropdown='mean') -> ImageData:\n",
    "    layer = np.squeeze(layer)\n",
    "\n",
    "    if np.ndim(layer) < 3:\n",
    "        show_info('this is not a 3D stack, no need for projection')\n",
    "\n",
    "    if np.ndim(layer) == 3:\n",
    "        show_info(str(np.shape(layer)))\n",
    "        size_z, size_x, size_y = np.shape(layer)\n",
    "        zfilter = get_zfilter(im=layer[minZ:maxZ,:,:], half_size=halfsize, size_z=size_z,\n",
    "                    size_x=size_x, size_y=size_y, step_size=step_size, method=dropdown)+minZ\n",
    "        zmap = getzmap(zfilter)\n",
    "        interp_zmap = get_interp_zmap(zmap= zmap, size_z=size_z, \n",
    "                    size_x=size_x, size_y=size_y, step_size=step_size, half_size=halfsize)\n",
    "        zproj = get_zproj_linear(im=layer, interp_zmap=interp_zmap, \n",
    "                    size_z=size_z, size_x=size_x, size_y=size_y, dz=dz)\n",
    "        return zproj\n",
    "\n",
    "    if np.ndim(layer) > 3:\n",
    "        show_info(str(np.shape(layer)))\n",
    "        size_t, size_z, size_x, size_y = np.shape(layer)\n",
    "        zproj = np.empty((size_t, size_x, size_y))\n",
    "        for t in range(minT, maxT):\n",
    "            show_info(str(t))\n",
    "            temp_im = np.reshape(layer[t,minZ:maxZ,:,:],(maxZ-minZ, size_x, size_y))\n",
    "            zfilter = get_zfilter(im=temp_im, half_size=halfsize, size_z=size_z,\n",
    "                        size_x=size_x, size_y=size_y, step_size=step_size, method=dropdown)+minZ\n",
    "            zmap = getzmap(zfilter)\n",
    "            interp_zmap = get_interp_zmap(zmap= zmap, size_z=size_z, \n",
    "                        size_x=size_x, size_y=size_y, step_size=step_size, half_size=halfsize)\n",
    "            zproj[t,:,:] = get_zproj_linear(im=layer[t,:,:,:], interp_zmap=interp_zmap, \n",
    "                        size_z=size_z, size_x=size_x, size_y=size_y, dz=dz)\n",
    "        zproj = np.reshape(zproj,(size_t, 1, size_x, size_y))\n",
    "        return zproj\n",
    "\n",
    "\n",
    "class MyGui(FunctionGui):\n",
    "    def __init__(self):\n",
    "        super().__init__(\n",
    "          localzprojection,\n",
    "          call_button=True,\n",
    "          auto_call=False,\n",
    "          layout='vertical',\n",
    "          param_options={\n",
    "                'halfsize' : {\"widget_type\": \"SpinBox\",\"value\":40, \"name\":'spin', \"label\":'sxy:', \"max\":100}, \n",
    "                'step_size': {\"widget_type\": \"SpinBox\",\"value\":20, \"name\":'spin1', \"label\":'dxy:', \"max\":100},\n",
    "                'dz' : {\"widget_type\": \"SpinBox\",\"value\":1, \"name\":'spin2', \"label\":'dz:', \"max\":5},\n",
    "                'minT' : {\"widget_type\": \"SpinBox\",\"value\":0, \"name\":'spin3', \"label\":'minT:', \"max\":10},\n",
    "                'maxT' : {\"widget_type\": \"SpinBox\",\"value\":0, \"name\":'spin4', \"label\":'maxT:', \"max\":10},\n",
    "                'minZ' : {\"widget_type\": \"SpinBox\",\"value\":0, \"name\":'spin5', \"label\":'minZ:', \"max\":60},\n",
    "                'maxZ' : {\"widget_type\": \"SpinBox\",\"value\":0, \"name\":'spin6', \"label\":'maxZ:', \"max\":60},\n",
    "                'dropdown' : {\"choices\":  ['mean','std','median','mean_mass','mean_std']}} \n",
    "        )\n",
    "\n",
    "\n",
    "napari_image = imread('C:/Users/cdeh/Desktop/data_test/test_im_spinning_disk_crappy_1C.TIF')\n",
    "viewer = napari.Viewer()\n",
    "viewer.add_image(napari_image, name='napari_island')\n",
    "\n",
    "flood_widget = MyGui()\n",
    "viewer.window.add_dock_widget(flood_widget, area='right')"
   ]
  }
 ],
 "metadata": {
  "kernelspec": {
   "display_name": "Python 3.8.15 ('pyjectorDev')",
   "language": "python",
   "name": "python3"
  },
  "language_info": {
   "codemirror_mode": {
    "name": "ipython",
    "version": 3
   },
   "file_extension": ".py",
   "mimetype": "text/x-python",
   "name": "python",
   "nbconvert_exporter": "python",
   "pygments_lexer": "ipython3",
   "version": "3.8.15"
  },
  "orig_nbformat": 4,
  "vscode": {
   "interpreter": {
    "hash": "70497b26b533d0e63af8f947d65228a79ccdd6c677a1bcb0c28369b78f4e4ce4"
   }
  }
 },
 "nbformat": 4,
 "nbformat_minor": 2
}
